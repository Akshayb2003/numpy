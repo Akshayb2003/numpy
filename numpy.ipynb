{
  "nbformat": 4,
  "nbformat_minor": 0,
  "metadata": {
    "colab": {
      "provenance": [],
      "authorship_tag": "ABX9TyNWCREuZOiyWfwCLSnwzfi+",
      "include_colab_link": true
    },
    "kernelspec": {
      "name": "python3",
      "display_name": "Python 3"
    },
    "language_info": {
      "name": "python"
    }
  },
  "cells": [
    {
      "cell_type": "markdown",
      "metadata": {
        "id": "view-in-github",
        "colab_type": "text"
      },
      "source": [
        "<a href=\"https://colab.research.google.com/github/Akshayb2003/numpy/blob/main/numpy.ipynb\" target=\"_parent\"><img src=\"https://colab.research.google.com/assets/colab-badge.svg\" alt=\"Open In Colab\"/></a>"
      ]
    },
    {
      "cell_type": "code",
      "execution_count": null,
      "metadata": {
        "colab": {
          "base_uri": "https://localhost:8080/"
        },
        "id": "IE2rZcUIEyRl",
        "outputId": "85888a61-dd73-47e5-fb66-a08a4a0b1a4d"
      },
      "outputs": [
        {
          "output_type": "stream",
          "name": "stdout",
          "text": [
            "['1' '2' '3.0' '4' 'a']\n"
          ]
        }
      ],
      "source": [
        "import numpy as np #numerical python\n",
        "\n",
        "#array collection of data with same data type(Homogeneous)\n",
        "\n",
        "\n",
        "a=np.array([1,2,3.0,4,\"a\"])\n",
        "print(a)"
      ]
    },
    {
      "cell_type": "code",
      "source": [
        "#slicing forward slicing backward slicing\n",
        "\n",
        "b=np.array([1,2,3,4,5])\n",
        "\n",
        "#print 1,2\n",
        "print(b[0:2])\n",
        "#print 5,4\n",
        "print(b[-1:-3:-1])\n",
        "#print 4,5\n",
        "print(b[3:])\n",
        "\n",
        "#print 2,1\n",
        "print(b[-4::-1])"
      ],
      "metadata": {
        "colab": {
          "base_uri": "https://localhost:8080/"
        },
        "id": "omySArZJHPvx",
        "outputId": "2a24a41a-a57d-4a0b-bc11-9c60deed484e"
      },
      "execution_count": null,
      "outputs": [
        {
          "output_type": "stream",
          "name": "stdout",
          "text": [
            "[1 2]\n",
            "[5 4]\n",
            "[4 5]\n",
            "[2 1]\n"
          ]
        }
      ]
    },
    {
      "cell_type": "code",
      "source": [
        "#dimension\n",
        "a=np.array([0,2,3,4,5])\n",
        "b=np.array([[1,2],[3,4]])\n",
        "\n",
        "a.ndim  #diamension=1 vector\n",
        "\n",
        "b.ndim #dimension =2 matrix\n",
        "\n",
        "print(b)\n",
        "\n",
        "b.shape #to know the shape ie number of rows and colums"
      ],
      "metadata": {
        "colab": {
          "base_uri": "https://localhost:8080/"
        },
        "id": "OnShnWeaIDAS",
        "outputId": "fdf5888f-2570-4efc-bc50-baf2e883e35d"
      },
      "execution_count": null,
      "outputs": [
        {
          "output_type": "stream",
          "name": "stdout",
          "text": [
            "[[1 2]\n",
            " [3 4]]\n"
          ]
        },
        {
          "output_type": "execute_result",
          "data": {
            "text/plain": [
              "(2, 2)"
            ]
          },
          "metadata": {},
          "execution_count": 37
        }
      ]
    },
    {
      "cell_type": "code",
      "source": [
        "#create a 2x2 matrix 2,3,4,5\n",
        "a=np.array([[2,3],[4,5]])\n",
        "print(a)\n",
        "print(a.shape)\n",
        "print(a.ndim)\n",
        "\n",
        "\n",
        "print(a.size) #number of elements in a mtrix"
      ],
      "metadata": {
        "colab": {
          "base_uri": "https://localhost:8080/"
        },
        "id": "CDMfe_ESKauM",
        "outputId": "ad17519d-e125-43db-ea71-fd30674ea248"
      },
      "execution_count": null,
      "outputs": [
        {
          "output_type": "stream",
          "name": "stdout",
          "text": [
            "[[2 3]\n",
            " [4 5]]\n",
            "(2, 2)\n",
            "2\n",
            "4\n"
          ]
        }
      ]
    },
    {
      "cell_type": "code",
      "source": [
        "#craete a 2x3 matrix and print the size shape and dimension\n",
        "a=np.array([[1,2,3],[4,5,6]])\n",
        "print(a)\n",
        "print(a.size)\n",
        "print(a.shape)\n",
        "print(a.ndim)"
      ],
      "metadata": {
        "colab": {
          "base_uri": "https://localhost:8080/"
        },
        "id": "4ILnjvtiLdPa",
        "outputId": "c52f8cb3-3435-4210-e311-3a0e65de4153"
      },
      "execution_count": null,
      "outputs": [
        {
          "output_type": "stream",
          "name": "stdout",
          "text": [
            "[[1 2 3]\n",
            " [4 5 6]]\n",
            "6\n",
            "(2, 3)\n",
            "2\n"
          ]
        }
      ]
    },
    {
      "cell_type": "code",
      "source": [
        "#create a 4x2 matrix display its size shape dimension\n",
        "\n",
        "\n",
        "a=np.array([[1,2],[3,4],[5,6],[6,7]])\n",
        "print(a)\n",
        "print(a.size)\n",
        "print(a.shape)\n",
        "print(a.ndim)"
      ],
      "metadata": {
        "colab": {
          "base_uri": "https://localhost:8080/"
        },
        "id": "r5QsmBRcMV3Z",
        "outputId": "2fadd58f-862b-4a26-e4bd-7fa1bb0e6a99"
      },
      "execution_count": null,
      "outputs": [
        {
          "output_type": "stream",
          "name": "stdout",
          "text": [
            "[[1 2]\n",
            " [3 4]\n",
            " [5 6]\n",
            " [6 7]]\n",
            "8\n",
            "(4, 2)\n",
            "2\n"
          ]
        }
      ]
    },
    {
      "cell_type": "code",
      "source": [
        "a=np.array([[1,2,4,5],[3,4,\n",
        "5,7],[5,6,7,8],[6,7,9,10]])\n",
        "print(a)\n",
        "print(a.size)\n",
        "print(a.shape)"
      ],
      "metadata": {
        "colab": {
          "base_uri": "https://localhost:8080/"
        },
        "id": "LkpktTEWN3qA",
        "outputId": "07f506f0-35a8-4630-a09c-a43b736457dc"
      },
      "execution_count": null,
      "outputs": [
        {
          "output_type": "stream",
          "name": "stdout",
          "text": [
            "[[ 1  2  4  5]\n",
            " [ 3  4  5  7]\n",
            " [ 5  6  7  8]\n",
            " [ 6  7  9 10]]\n",
            "16\n",
            "(4, 4)\n"
          ]
        }
      ]
    },
    {
      "cell_type": "code",
      "source": [
        "z=np.array([[1,2,4,5],[3,4,\n",
        "5,7],[5,6,7,8],[6,7,9,10]])\n",
        "\n",
        "\n",
        "z[0]\n",
        "\n",
        "z[:,0]\n",
        "\n",
        "z[1,1]\n",
        "\n",
        "z[2,2]\n",
        "\n",
        "z[3,2:]\n",
        "\n",
        "z[2:,2:]\n",
        "\n",
        "z[:0,3:]\n",
        "print(z)"
      ],
      "metadata": {
        "id": "WaOPU1XgN3gS",
        "colab": {
          "base_uri": "https://localhost:8080/"
        },
        "outputId": "029292f4-f912-4174-ae96-e6f8a83bf058"
      },
      "execution_count": null,
      "outputs": [
        {
          "output_type": "stream",
          "name": "stdout",
          "text": [
            "[[ 1  2  4  5]\n",
            " [ 3  4  5  7]\n",
            " [ 5  6  7  8]\n",
            " [ 6  7  9 10]]\n"
          ]
        }
      ]
    },
    {
      "cell_type": "code",
      "source": [
        "#zero matrix\n",
        "z=np.array\n",
        "\n",
        "\n",
        "z=np.zeros([3,3,3],dtype=complex)  #dtype=int\n",
        "print(z)"
      ],
      "metadata": {
        "colab": {
          "base_uri": "https://localhost:8080/"
        },
        "id": "pJiGQBGPJ9Ua",
        "outputId": "42d9f773-cd1d-4e21-a8dc-195e0f780b5d"
      },
      "execution_count": null,
      "outputs": [
        {
          "output_type": "stream",
          "name": "stdout",
          "text": [
            "[[[0.+0.j 0.+0.j 0.+0.j]\n",
            "  [0.+0.j 0.+0.j 0.+0.j]\n",
            "  [0.+0.j 0.+0.j 0.+0.j]]\n",
            "\n",
            " [[0.+0.j 0.+0.j 0.+0.j]\n",
            "  [0.+0.j 0.+0.j 0.+0.j]\n",
            "  [0.+0.j 0.+0.j 0.+0.j]]\n",
            "\n",
            " [[0.+0.j 0.+0.j 0.+0.j]\n",
            "  [0.+0.j 0.+0.j 0.+0.j]\n",
            "  [0.+0.j 0.+0.j 0.+0.j]]]\n"
          ]
        }
      ]
    },
    {
      "cell_type": "code",
      "source": [
        "#one matrix\n",
        "z=np.ones([3,3],dtype=int)\n",
        "print(z)"
      ],
      "metadata": {
        "colab": {
          "base_uri": "https://localhost:8080/"
        },
        "id": "dN1uu1TcKilz",
        "outputId": "83f1a8b3-405c-45d6-9674-4f8255ff97ee"
      },
      "execution_count": null,
      "outputs": [
        {
          "output_type": "stream",
          "name": "stdout",
          "text": [
            "[[1 1 1]\n",
            " [1 1 1]\n",
            " [1 1 1]]\n"
          ]
        }
      ]
    },
    {
      "cell_type": "code",
      "source": [
        "#create two 2x2 mtrix\n",
        "a=np.array([[1,2],[3,4]])\n",
        "b=np.array([[3,1],[6,7]])\n",
        "print(a)\n",
        "print(b)"
      ],
      "metadata": {
        "colab": {
          "base_uri": "https://localhost:8080/"
        },
        "id": "GenB_atSKxTe",
        "outputId": "8beeffef-31f1-43a7-e6d9-9c2cfac902e1"
      },
      "execution_count": null,
      "outputs": [
        {
          "output_type": "stream",
          "name": "stdout",
          "text": [
            "[[1 2]\n",
            " [3 4]]\n",
            "[[3 1]\n",
            " [6 7]]\n"
          ]
        }
      ]
    },
    {
      "cell_type": "code",
      "source": [
        "#matrix addition\n",
        "print(a+b)\n",
        "\n",
        "\n",
        "#matrix substraction\n",
        "print(a-b)\n",
        "\n",
        "\n",
        "\n",
        "\n",
        "#matrix multiplication\n",
        "#print(a*b) is not a matrix maultiplication\n",
        "print(a@b)\n",
        "print(a.dot(b))\n",
        "\n",
        "\n",
        "\n",
        "\n",
        "\n",
        "#matrix division\n",
        "print(a/b)\n",
        "\n",
        "\n",
        "\n",
        "\n",
        "\n",
        "\n",
        "\n",
        "\n",
        "\n",
        "\n",
        "\n",
        "\n",
        "\n",
        " # magic __add__"
      ],
      "metadata": {
        "colab": {
          "base_uri": "https://localhost:8080/"
        },
        "id": "GOndZIZzK8RF",
        "outputId": "40f081e2-64a1-41c9-fe45-cd3b1938e8bb"
      },
      "execution_count": null,
      "outputs": [
        {
          "output_type": "stream",
          "name": "stdout",
          "text": [
            "[[ 4  3]\n",
            " [ 9 11]]\n",
            "[[-2  1]\n",
            " [-3 -3]]\n",
            "[[15 15]\n",
            " [33 31]]\n",
            "[[15 15]\n",
            " [33 31]]\n",
            "[[0.33333333 2.        ]\n",
            " [0.5        0.57142857]]\n"
          ]
        }
      ]
    },
    {
      "cell_type": "code",
      "source": [
        "#full matrix\n",
        "\n",
        "\n",
        "z=np.full([3,3],5,dtype=int)\n",
        "print(z)"
      ],
      "metadata": {
        "colab": {
          "base_uri": "https://localhost:8080/"
        },
        "id": "68y0qbq_L5Mn",
        "outputId": "048556a7-1827-4cd0-a289-a7e6f91177a6"
      },
      "execution_count": null,
      "outputs": [
        {
          "output_type": "stream",
          "name": "stdout",
          "text": [
            "[[5 5 5]\n",
            " [5 5 5]\n",
            " [5 5 5]]\n"
          ]
        }
      ]
    },
    {
      "cell_type": "code",
      "source": [
        "#create 3x4 matrix with value 9 and a datatype complex\n",
        "a=np.full([3,4],9,dtype=complex)\n",
        "print(a)"
      ],
      "metadata": {
        "colab": {
          "base_uri": "https://localhost:8080/"
        },
        "id": "Sth35CjJObsE",
        "outputId": "f43d6672-600b-4642-dd60-15f06f5bfb9c"
      },
      "execution_count": null,
      "outputs": [
        {
          "output_type": "stream",
          "name": "stdout",
          "text": [
            "[[9.+0.j 9.+0.j 9.+0.j 9.+0.j]\n",
            " [9.+0.j 9.+0.j 9.+0.j 9.+0.j]\n",
            " [9.+0.j 9.+0.j 9.+0.j 9.+0.j]]\n"
          ]
        }
      ]
    },
    {
      "cell_type": "code",
      "source": [
        "#identity matrix\n",
        "z=np.identity(3)\n",
        "print(z)\n",
        "\n",
        "#z=np.eye(3)\n",
        "#z\n"
      ],
      "metadata": {
        "colab": {
          "base_uri": "https://localhost:8080/"
        },
        "id": "AEiRbo_KPm76",
        "outputId": "8568319f-6273-4d60-cdc5-08e2b5cc538b"
      },
      "execution_count": null,
      "outputs": [
        {
          "output_type": "stream",
          "name": "stdout",
          "text": [
            "[[1. 0. 0.]\n",
            " [0. 1. 0.]\n",
            " [0. 0. 1.]]\n"
          ]
        }
      ]
    },
    {
      "cell_type": "code",
      "source": [
        "#create a 4x4 matrix\n",
        "y=np.array([[1,2,3,4],[5,6,7,8],[9,10,11,12],[13,14,15,16]])\n",
        "print(y)\n",
        "print(y.size)"
      ],
      "metadata": {
        "colab": {
          "base_uri": "https://localhost:8080/"
        },
        "id": "VWI_yoFmQvA5",
        "outputId": "f1c273a9-6983-4f40-978a-1edb28a8f2dd"
      },
      "execution_count": null,
      "outputs": [
        {
          "output_type": "stream",
          "name": "stdout",
          "text": [
            "[[ 1  2  3  4]\n",
            " [ 5  6  7  8]\n",
            " [ 9 10 11 12]\n",
            " [13 14 15 16]]\n",
            "16\n"
          ]
        }
      ]
    },
    {
      "cell_type": "code",
      "source": [
        "a=y.reshape(8,2)\n",
        "a"
      ],
      "metadata": {
        "colab": {
          "base_uri": "https://localhost:8080/"
        },
        "id": "cd1y-jBXRdcl",
        "outputId": "9fa9e1be-9581-4268-df1c-42bd52409d7b"
      },
      "execution_count": null,
      "outputs": [
        {
          "output_type": "execute_result",
          "data": {
            "text/plain": [
              "array([[ 1,  2],\n",
              "       [ 3,  4],\n",
              "       [ 5,  6],\n",
              "       [ 7,  8],\n",
              "       [ 9, 10],\n",
              "       [11, 12],\n",
              "       [13, 14],\n",
              "       [15, 16]])"
            ]
          },
          "metadata": {},
          "execution_count": 64
        }
      ]
    },
    {
      "cell_type": "code",
      "source": [
        "#arange\n",
        "a=np.arange(1,10,2)\n",
        "a"
      ],
      "metadata": {
        "colab": {
          "base_uri": "https://localhost:8080/"
        },
        "id": "CUwXKyNESEv5",
        "outputId": "3b095952-4240-40da-e3c7-d0b5d755862c"
      },
      "execution_count": null,
      "outputs": [
        {
          "output_type": "execute_result",
          "data": {
            "text/plain": [
              "array([1, 3, 5, 7, 9])"
            ]
          },
          "metadata": {},
          "execution_count": 65
        }
      ]
    },
    {
      "cell_type": "code",
      "source": [
        "#create a 5x2 matrix using arange\n",
        "a=np.arange(1,11).reshape(5,2)\n",
        "a"
      ],
      "metadata": {
        "colab": {
          "base_uri": "https://localhost:8080/"
        },
        "id": "OsKdwQ6oSfmZ",
        "outputId": "86397b1d-a1a4-49cb-ce86-5d53e0a2f62e"
      },
      "execution_count": null,
      "outputs": [
        {
          "output_type": "execute_result",
          "data": {
            "text/plain": [
              "array([[ 1,  2],\n",
              "       [ 3,  4],\n",
              "       [ 5,  6],\n",
              "       [ 7,  8],\n",
              "       [ 9, 10]])"
            ]
          },
          "metadata": {},
          "execution_count": 68
        }
      ]
    },
    {
      "cell_type": "code",
      "source": [
        "#create a 3x3 matrix with float values\n",
        "a=np.array([[2.5,3.6,3.5],[1.5,1.1,6.5],[7.1,2.5,7.1]])\n",
        "a"
      ],
      "metadata": {
        "colab": {
          "base_uri": "https://localhost:8080/"
        },
        "id": "Mb0RsD2dTNxV",
        "outputId": "727851ca-d33a-489e-e823-393295b2411e"
      },
      "execution_count": null,
      "outputs": [
        {
          "output_type": "execute_result",
          "data": {
            "text/plain": [
              "array([[2.5, 3.6, 3.5],\n",
              "       [1.5, 1.1, 6.5],\n",
              "       [7.1, 2.5, 7.1]])"
            ]
          },
          "metadata": {},
          "execution_count": 69
        }
      ]
    },
    {
      "cell_type": "code",
      "source": [
        "#floor\n",
        "z=np.floor(a)\n",
        "z"
      ],
      "metadata": {
        "colab": {
          "base_uri": "https://localhost:8080/"
        },
        "id": "ZvK-qB9dUiLP",
        "outputId": "98463ba7-96a0-4453-b404-cbfa6d815ff6"
      },
      "execution_count": null,
      "outputs": [
        {
          "output_type": "execute_result",
          "data": {
            "text/plain": [
              "array([[2., 3., 3.],\n",
              "       [1., 1., 6.],\n",
              "       [7., 2., 7.]])"
            ]
          },
          "metadata": {},
          "execution_count": 70
        }
      ]
    },
    {
      "cell_type": "code",
      "source": [
        "#ceil\n",
        "z=np.ceil(a)\n",
        "z"
      ],
      "metadata": {
        "colab": {
          "base_uri": "https://localhost:8080/"
        },
        "id": "M4DY_LshU93t",
        "outputId": "a9100dc9-4b83-444a-bcb2-faf3d451d2ff"
      },
      "execution_count": null,
      "outputs": [
        {
          "output_type": "execute_result",
          "data": {
            "text/plain": [
              "array([[3., 4., 4.],\n",
              "       [2., 2., 7.],\n",
              "       [8., 3., 8.]])"
            ]
          },
          "metadata": {},
          "execution_count": 71
        }
      ]
    },
    {
      "cell_type": "code",
      "source": [
        "#round\n",
        "z=np.round(a)\n",
        "z"
      ],
      "metadata": {
        "colab": {
          "base_uri": "https://localhost:8080/"
        },
        "id": "AqR5jFxvVlE5",
        "outputId": "2d077475-9b82-4b7d-d4f3-3533af2e06e3"
      },
      "execution_count": null,
      "outputs": [
        {
          "output_type": "execute_result",
          "data": {
            "text/plain": [
              "array([[2., 4., 4.],\n",
              "       [2., 1., 6.],\n",
              "       [7., 2., 7.]])"
            ]
          },
          "metadata": {},
          "execution_count": 72
        }
      ]
    },
    {
      "cell_type": "code",
      "source": [
        "#create 3x3 matrix\n",
        "\n",
        "a=np.arange(1,10).reshape(3,3)\n",
        "print(a)\n",
        "\n",
        "a.max()\n",
        "\n",
        "a.max(axis=1)\n",
        "a.max(axis=1)\n",
        "a.min(axis=1)\n",
        "a.min(axis=0)"
      ],
      "metadata": {
        "colab": {
          "base_uri": "https://localhost:8080/"
        },
        "id": "0lMq_fSYW7a2",
        "outputId": "b3a330f1-50bf-4849-ec4e-63f678f757e5"
      },
      "execution_count": null,
      "outputs": [
        {
          "output_type": "stream",
          "name": "stdout",
          "text": [
            "[[1 2 3]\n",
            " [4 5 6]\n",
            " [7 8 9]]\n"
          ]
        },
        {
          "output_type": "execute_result",
          "data": {
            "text/plain": [
              "array([1, 2, 3])"
            ]
          },
          "metadata": {},
          "execution_count": 77
        }
      ]
    },
    {
      "cell_type": "markdown",
      "source": [
        "22-09-25"
      ],
      "metadata": {
        "id": "9nDfmFFTp5Bf"
      }
    },
    {
      "cell_type": "code",
      "source": [],
      "metadata": {
        "id": "x_bXAaEYp73V"
      },
      "execution_count": null,
      "outputs": []
    },
    {
      "cell_type": "code",
      "source": [
        "#flatten\n",
        "a.flatten()   #to convert into a one dimensional array"
      ],
      "metadata": {
        "id": "fEoDfOm6XuIX",
        "colab": {
          "base_uri": "https://localhost:8080/"
        },
        "outputId": "be85c4e1-2f81-449d-9712-7551fe298d14"
      },
      "execution_count": 36,
      "outputs": [
        {
          "output_type": "execute_result",
          "data": {
            "text/plain": [
              "array([3, 4, 1, 5, 3, 1, 6, 9, 8])"
            ]
          },
          "metadata": {},
          "execution_count": 36
        }
      ]
    },
    {
      "cell_type": "code",
      "source": [
        "#sorting\n",
        "#craete 3x3 matrix\n",
        "a=np.array([[3,4,1],[5,3,1],[6,9,8]])\n",
        "print(a)\n",
        "b=np.sort(a,axis=0)\n",
        "print(b)\n",
        "c=np.argsort(a,axis=1)       #sort on basis of index\n",
        "print(c)"
      ],
      "metadata": {
        "colab": {
          "base_uri": "https://localhost:8080/"
        },
        "id": "6jrU-JeHmssK",
        "outputId": "45f9ef29-a629-440a-c368-8e46d4a08eb8"
      },
      "execution_count": null,
      "outputs": [
        {
          "output_type": "stream",
          "name": "stdout",
          "text": [
            "[[3 4 1]\n",
            " [5 3 1]\n",
            " [6 9 8]]\n",
            "[[3 3 1]\n",
            " [5 4 1]\n",
            " [6 9 8]]\n",
            "[[2 0 1]\n",
            " [2 1 0]\n",
            " [0 2 1]]\n"
          ]
        }
      ]
    }
  ]
}